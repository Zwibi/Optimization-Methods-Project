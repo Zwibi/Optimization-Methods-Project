{
 "cells": [
  {
   "cell_type": "markdown",
   "metadata": {},
   "source": [
    "# Implementing NN using Simulated Annealing"
   ]
  },
  {
   "cell_type": "markdown",
   "metadata": {},
   "source": [
    "First we import everyting necessary and define some functions"
   ]
  },
  {
   "cell_type": "code",
   "execution_count": 3,
   "metadata": {},
   "outputs": [],
   "source": [
    "import numpy as np\n",
    "from sklearn.metrics import mean_squared_error\n",
    "import random\n",
    "import math\n",
    "from sklearn import preprocessing\n",
    "\n",
    "def sigmoid(x):\n",
    "    return 1.0/(1+ np.exp(-x))\n",
    "\n",
    "def sigmoid_derivative(x):\n",
    "    return x * (1.0 - x)\n",
    "\n",
    "def squared_loss(y, y_pred):\n",
    "    return mean_squared_error(y, y_pred)**0.5"
   ]
  },
  {
   "cell_type": "code",
   "execution_count": 4,
   "metadata": {},
   "outputs": [],
   "source": [
    "trainData = np.loadtxt(open(\"train.csv\", \"rb\"), dtype=np.float64, delimiter=\",\", skiprows=1) #Load Data\n",
    "trainData = preprocessing.normalize(trainData)\n",
    "#y = trainData[:, 1]# y data, correct\n",
    "y = [[x[1]] for x in trainData]\n",
    "y = np.asarray(y)\n",
    "X = trainData[:, 2:] # x_1 to x_5 data, correct\n",
    "#X = preprocessing.normalize(trainData)"
   ]
  },
  {
   "cell_type": "markdown",
   "metadata": {},
   "source": [
    "## Implementation of NN using backprop"
   ]
  },
  {
   "cell_type": "code",
   "execution_count": 11,
   "metadata": {},
   "outputs": [],
   "source": [
    "class NeuralNetwork:\n",
    "    def __init__(self, x, y, n2):\n",
    "        self.input      = x\n",
    "        self.weights1   = np.random.rand(self.input.shape[1],n2)    \n",
    "        self.y          = y\n",
    "        self.weights2   = np.random.rand(n2, 1)\n",
    "        self.output     = np.zeros(self.y.shape)\n",
    "\n",
    "    def feedforward(self):\n",
    "        self.layer1 = sigmoid(np.dot(self.input, self.weights1))\n",
    "        self.output = sigmoid(np.dot(self.layer1, self.weights2))\n",
    "\n",
    "    def backprop(self):\n",
    "        # application of the chain rule to find derivative of the loss function with respect to weights2 and weights1\n",
    "        d = (2*(self.y - self.output) * sigmoid_derivative(self.output))\n",
    "        d_weights2 = np.dot(self.layer1.T, d)\n",
    "        d_weights1 = np.dot(self.input.T,  (np.dot(d, self.weights2.T) * sigmoid_derivative(self.layer1)))\n",
    "        # update the weights with the derivative (slope) of the loss function\n",
    "        \n",
    "        self.weights1 += preprocessing.normalize(d_weights1)\n",
    "        self.weights2 += preprocessing.normalize(d_weights2)\n",
    "        #print(self.weights2[0])"
   ]
  },
  {
   "cell_type": "code",
   "execution_count": 13,
   "metadata": {
    "scrolled": false
   },
   "outputs": [
    {
     "name": "stdout",
     "output_type": "stream",
     "text": [
      "(10000, 10)\n",
      "(10000, 1)\n",
      "[[ 0.18840931]\n",
      " [ 0.15961654]\n",
      " [ 0.04236603]\n",
      " ...\n",
      " [ 0.00593165]\n",
      " [-0.01988865]\n",
      " [-0.02760952]]\n",
      "error:\n",
      "0.8731336301707824\n",
      "0.05684912668804984\n",
      "0.05560301718003331\n",
      "0.05552620207746124\n",
      "0.05549938759405814\n",
      "0.055485582931718326\n",
      "0.05547693071896578\n",
      "0.0554709047077066\n",
      "0.05546649125356281\n",
      "0.05546319762752776\n",
      "0.05546070480564479\n",
      "0.05545879384658111\n",
      "0.05545731471869787\n",
      "0.05545615724583497\n",
      "0.05545523616408335\n",
      "0.0554544862593035\n",
      "final error: \n",
      " 0.0554544862593035\n"
     ]
    }
   ],
   "source": [
    "print(X.shape)\n",
    "print(y.shape)\n",
    "print(y)\n",
    "\n",
    "nn = NeuralNetwork(X,y, 10)\n",
    "\n",
    "print(\"error:\")\n",
    "for i in range(1501):\n",
    "    nn.feedforward()\n",
    "    nn.backprop()\n",
    "    if i % 100 == 0:\n",
    "        print(squared_loss(y, nn.output))\n",
    "    \n",
    "    \n",
    "\n",
    "print(\"final error: \\n\", squared_loss(y, nn.output))\n",
    "#for item_a, item_b, item_z in zip(y, nn.output, y-nn.output):\n",
    "#    print(item_a, item_b, item_z)"
   ]
  },
  {
   "cell_type": "markdown",
   "metadata": {},
   "source": [
    "## NN with variable depth"
   ]
  },
  {
   "cell_type": "code",
   "execution_count": 13,
   "metadata": {},
   "outputs": [],
   "source": [
    "class NeuralNetwork:\n",
    "    def __init__(self, x, y, n, l):\n",
    "        self.input      = x\n",
    "        self.y          = y\n",
    "        self.width      = n\n",
    "        self.depth      = l\n",
    "        m = self.input.shape[1]\n",
    "        \n",
    "        self.layer      = []\n",
    "        self.layer.append(x)\n",
    "        for i in range(1,l):\n",
    "            self.layer.append(np.zeros((m,n)))\n",
    "        self.layer.append(np.zeros(self.y.shape))\n",
    "        self.output = self.layer[l]\n",
    "        \n",
    "        self.weights    = []\n",
    "        self.weights.append(np.random.rand(m, n))\n",
    "        for i in range(1,l-1):\n",
    "            self.weights.append(np.random.rand(n,n))\n",
    "        self.weights.append(np.random.rand(n,1))\n",
    "\n",
    "    def feedforward(self):\n",
    "        l = self.depth\n",
    "        for i in range(1,l):\n",
    "            self.layer[i] = sigmoid(np.dot(self.layer[i-1], self.weights[i-1]))\n",
    "            \n",
    "        self.output = self.layer[l]\n",
    "\n",
    "    def backprop(self):\n",
    "        # application of the chain rule to find derivative of the loss function with respect to weights2 and weights1\n",
    "        l = self.depth\n",
    "        d_weights = []\n",
    "        d_error = []\n",
    "        print(len(self.weights), l)\n",
    "        for w in self.weights:\n",
    "            d_weights.append(w)\n",
    "            d_error.append(y)\n",
    "        d_error[l-1] = (self.y - self.layer[1])\n",
    "        d_weights[l-1] = np.dot(d_error[l-1],self.layer[l-1].T)\n",
    "        \n",
    "        for i in range(l-2,0,-1):\n",
    "            a = sigmoid_derivative(self.layer[i])\n",
    "            print(d_weights[i+1].shape, d_error[i+1].shape, i+1)\n",
    "            b = np.dot(d_weights[i+1].T,d_error[i+1])\n",
    "            d_error[i] = a*b\n",
    "            print(self.layer[i-1].shape)\n",
    "            d_weights[i] = np.dot(d_error[i], self.layer[i-1].T)\n",
    "\n",
    "        \"\"\"d = (2*(self.y - self.output) * sigmoid_derivative(self.output))\n",
    "        d_weights2 = np.dot(self.layer1.T, d)\n",
    "        d_weights1 = np.dot(self.input.T,  (np.dot(d, self.weights2.T) * sigmoid_derivative(self.layer1)))\n",
    "        \n",
    "        \n",
    "        \n",
    "        \n",
    "        \n",
    "        \n",
    "        d_weights2 = np.dot(self.layer1.T, (2*(self.y - self.output) * sigmoid_derivative(self.output)))\n",
    "        d_weights1 = np.dot(self.input.T,  (np.dot(2*(self.y - self.output) * sigmoid_derivative(self.output), self.weights2.T) * sigmoid_derivative(self.layer1)))\n",
    "        # update the weights with the derivative (slope) of the loss function\n",
    "        \n",
    "        self.weights1 += preprocessing.normalize(d_weights1)\n",
    "        self.weights2 += preprocessing.normalize(d_weights2)\n",
    "        #print(self.weights2[0])\"\"\""
   ]
  },
  {
   "cell_type": "code",
   "execution_count": 14,
   "metadata": {},
   "outputs": [
    {
     "name": "stdout",
     "output_type": "stream",
     "text": [
      "error:\n",
      "4 4\n",
      "(10000, 10000) (10000, 4) 3\n",
      "(10000, 4)\n",
      "(10000, 10000) (10000, 4) 2\n",
      "(10000, 10)\n"
     ]
    },
    {
     "ename": "ValueError",
     "evalue": "shapes (10000,4) and (10,10000) not aligned: 4 (dim 1) != 10 (dim 0)",
     "output_type": "error",
     "traceback": [
      "\u001b[0;31m---------------------------------------------------------------------------\u001b[0m",
      "\u001b[0;31mValueError\u001b[0m                                Traceback (most recent call last)",
      "\u001b[0;32m<ipython-input-14-eb99dab4a973>\u001b[0m in \u001b[0;36m<module>\u001b[0;34m\u001b[0m\n\u001b[1;32m      4\u001b[0m \u001b[0;32mfor\u001b[0m \u001b[0mi\u001b[0m \u001b[0;32min\u001b[0m \u001b[0mrange\u001b[0m\u001b[0;34m(\u001b[0m\u001b[0;36m1501\u001b[0m\u001b[0;34m)\u001b[0m\u001b[0;34m:\u001b[0m\u001b[0;34m\u001b[0m\u001b[0;34m\u001b[0m\u001b[0m\n\u001b[1;32m      5\u001b[0m     \u001b[0mnn\u001b[0m\u001b[0;34m.\u001b[0m\u001b[0mfeedforward\u001b[0m\u001b[0;34m(\u001b[0m\u001b[0;34m)\u001b[0m\u001b[0;34m\u001b[0m\u001b[0;34m\u001b[0m\u001b[0m\n\u001b[0;32m----> 6\u001b[0;31m     \u001b[0mnn\u001b[0m\u001b[0;34m.\u001b[0m\u001b[0mbackprop\u001b[0m\u001b[0;34m(\u001b[0m\u001b[0;34m)\u001b[0m\u001b[0;34m\u001b[0m\u001b[0;34m\u001b[0m\u001b[0m\n\u001b[0m\u001b[1;32m      7\u001b[0m     \u001b[0;32mif\u001b[0m \u001b[0mi\u001b[0m \u001b[0;34m%\u001b[0m \u001b[0;36m100\u001b[0m \u001b[0;34m==\u001b[0m \u001b[0;36m0\u001b[0m\u001b[0;34m:\u001b[0m\u001b[0;34m\u001b[0m\u001b[0;34m\u001b[0m\u001b[0m\n\u001b[1;32m      8\u001b[0m         \u001b[0mprint\u001b[0m\u001b[0;34m(\u001b[0m\u001b[0msquared_loss\u001b[0m\u001b[0;34m(\u001b[0m\u001b[0my\u001b[0m\u001b[0;34m,\u001b[0m \u001b[0mnn\u001b[0m\u001b[0;34m.\u001b[0m\u001b[0moutput\u001b[0m\u001b[0;34m)\u001b[0m\u001b[0;34m)\u001b[0m\u001b[0;34m\u001b[0m\u001b[0;34m\u001b[0m\u001b[0m\n",
      "\u001b[0;32m<ipython-input-13-428688004151>\u001b[0m in \u001b[0;36mbackprop\u001b[0;34m(self)\u001b[0m\n\u001b[1;32m     45\u001b[0m             \u001b[0md_error\u001b[0m\u001b[0;34m[\u001b[0m\u001b[0mi\u001b[0m\u001b[0;34m]\u001b[0m \u001b[0;34m=\u001b[0m \u001b[0ma\u001b[0m\u001b[0;34m*\u001b[0m\u001b[0mb\u001b[0m\u001b[0;34m\u001b[0m\u001b[0;34m\u001b[0m\u001b[0m\n\u001b[1;32m     46\u001b[0m             \u001b[0mprint\u001b[0m\u001b[0;34m(\u001b[0m\u001b[0mself\u001b[0m\u001b[0;34m.\u001b[0m\u001b[0mlayer\u001b[0m\u001b[0;34m[\u001b[0m\u001b[0mi\u001b[0m\u001b[0;34m-\u001b[0m\u001b[0;36m1\u001b[0m\u001b[0;34m]\u001b[0m\u001b[0;34m.\u001b[0m\u001b[0mshape\u001b[0m\u001b[0;34m)\u001b[0m\u001b[0;34m\u001b[0m\u001b[0;34m\u001b[0m\u001b[0m\n\u001b[0;32m---> 47\u001b[0;31m             \u001b[0md_weights\u001b[0m\u001b[0;34m[\u001b[0m\u001b[0mi\u001b[0m\u001b[0;34m]\u001b[0m \u001b[0;34m=\u001b[0m \u001b[0mnp\u001b[0m\u001b[0;34m.\u001b[0m\u001b[0mdot\u001b[0m\u001b[0;34m(\u001b[0m\u001b[0md_error\u001b[0m\u001b[0;34m[\u001b[0m\u001b[0mi\u001b[0m\u001b[0;34m]\u001b[0m\u001b[0;34m,\u001b[0m \u001b[0mself\u001b[0m\u001b[0;34m.\u001b[0m\u001b[0mlayer\u001b[0m\u001b[0;34m[\u001b[0m\u001b[0mi\u001b[0m\u001b[0;34m-\u001b[0m\u001b[0;36m1\u001b[0m\u001b[0;34m]\u001b[0m\u001b[0;34m.\u001b[0m\u001b[0mT\u001b[0m\u001b[0;34m)\u001b[0m\u001b[0;34m\u001b[0m\u001b[0;34m\u001b[0m\u001b[0m\n\u001b[0m\u001b[1;32m     48\u001b[0m \u001b[0;34m\u001b[0m\u001b[0m\n\u001b[1;32m     49\u001b[0m         \"\"\"d = (2*(self.y - self.output) * sigmoid_derivative(self.output))\n",
      "\u001b[0;31mValueError\u001b[0m: shapes (10000,4) and (10,10000) not aligned: 4 (dim 1) != 10 (dim 0)"
     ]
    }
   ],
   "source": [
    "nn = NeuralNetwork(X,y, 4, 4)\n",
    "\n",
    "print(\"error:\")\n",
    "for i in range(1501):\n",
    "    nn.feedforward()\n",
    "    nn.backprop()\n",
    "    if i % 100 == 0:\n",
    "        print(squared_loss(y, nn.output))\n",
    "    \n",
    "    \n",
    "\n",
    "print(\"final error: \\n\", squared_loss(y, nn.output))\n",
    "#for item_a, item_b, item_z in zip(y, nn.output, y-nn.output):\n",
    "#    print(item_a, item_b, item_z)"
   ]
  },
  {
   "cell_type": "markdown",
   "metadata": {},
   "source": [
    "# Simulated Annealing"
   ]
  },
  {
   "cell_type": "code",
   "execution_count": 7,
   "metadata": {},
   "outputs": [],
   "source": [
    "class NeuralNetwork:\n",
    "    def __init__(self, x, y):\n",
    "        self.input      = x\n",
    "        self.weights1   = np.random.rand(self.input.shape[1],4)\n",
    "        self.weights2   = np.random.rand(4,1)                 \n",
    "        self.y          = y\n",
    "        self.output     = np.zeros(self.y.shape)\n",
    "        self.best_sol   = 1000000\n",
    "        self.best_out   = self.output\n",
    "        self.best1      = self.weights1\n",
    "        self.best2      = self.weights2\n",
    "\n",
    "    def feedforward(self):\n",
    "        self.layer1 = sigmoid(np.dot(self.input, self.weights1))\n",
    "        self.output = sigmoid(np.dot(self.layer1, self.weights2))\n",
    "\n",
    "    def optimize(self, temp):\n",
    "        t = temp\n",
    "        old_weights1 = self.weights1\n",
    "        old_weights2 = self.weights2\n",
    "        old_output = self.output\n",
    "        old_loss = squared_loss(self.y, self.output)\n",
    "        \n",
    "        rand = np.random.rand(self.input.shape[1],4)\n",
    "        self.weights1 = self.weights1 + rand\n",
    "        rand2 = np.random.rand(4,1)\n",
    "        self.weights2 = self.weights2 + rand2\n",
    "        self.feedforward()\n",
    "        new_loss = squared_loss(self.y, self.output)\n",
    "        #print(new_loss, old_loss)\n",
    "        #print(random.random(),math.exp(-(new_loss-old_loss)/t))\n",
    "        if (new_loss > old_loss) and random.random() > math.exp(-(new_loss-old_loss)/t):\n",
    "            self.weights1 = old_weights1\n",
    "            self.weights2 = old_weights2\n",
    "            self.output = old_output\n",
    "        if squared_loss(self.y, self.output) < self.best_sol:\n",
    "            self.best_sol = squared_loss(self.y, self.output)\n",
    "            self.best_out = self.output\n",
    "            self.best1 = self.weights1\n",
    "            self.best2 = self.weights2\n",
    "        temp = temp - 100"
   ]
  },
  {
   "cell_type": "code",
   "execution_count": 8,
   "metadata": {},
   "outputs": [
    {
     "name": "stdout",
     "output_type": "stream",
     "text": [
      "error:\n",
      "error in round  0 0.8875998764918559\n",
      "error in round  1090 0.7887363817463872\n",
      "error in round  2180 0.785998345042974\n",
      "error in round  3270 0.7846064507398828\n",
      "error in round  4360 0.7842330347012362\n",
      "error in round  5450 0.7837358827766141\n",
      "error in round  6540 0.7835368046062703\n",
      "error in round  7630 0.7832214819389576\n",
      "error in round  8720 0.7830388190908184\n",
      "error in round  9810 0.7825833107260677\n",
      "final output: \n",
      " [[1. ]\n",
      " [1. ]\n",
      " [1. ]\n",
      " ...\n",
      " [1. ]\n",
      " [0.5]\n",
      " [0.5]]\n"
     ]
    }
   ],
   "source": [
    "nn = NeuralNetwork(X,y)\n",
    "\n",
    "print(\"error:\")\n",
    "for i in range(10000):\n",
    "    nn.feedforward()\n",
    "    nn.optimize(1000000)\n",
    "    if i % 1090 == 0:\n",
    "        print('error in round ', i ,squared_loss(y, nn.best_out))\n",
    "    \n",
    "    \n",
    "\n",
    "print(\"final output: \\n\", nn.best_out)"
   ]
  },
  {
   "cell_type": "code",
   "execution_count": null,
   "metadata": {},
   "outputs": [],
   "source": []
  },
  {
   "cell_type": "code",
   "execution_count": null,
   "metadata": {},
   "outputs": [],
   "source": []
  },
  {
   "cell_type": "code",
   "execution_count": null,
   "metadata": {},
   "outputs": [],
   "source": []
  }
 ],
 "metadata": {
  "kernelspec": {
   "display_name": "Python 3",
   "language": "python",
   "name": "python3"
  },
  "language_info": {
   "codemirror_mode": {
    "name": "ipython",
    "version": 3
   },
   "file_extension": ".py",
   "mimetype": "text/x-python",
   "name": "python",
   "nbconvert_exporter": "python",
   "pygments_lexer": "ipython3",
   "version": "3.7.1"
  }
 },
 "nbformat": 4,
 "nbformat_minor": 2
}
