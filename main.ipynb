{
 "cells": [
  {
   "cell_type": "code",
   "execution_count": 1,
   "metadata": {},
   "outputs": [],
   "source": [
    "%matplotlib inline\n",
    "\n",
    "import numpy as np\n",
    "from sklearn.metrics import mean_squared_error\n",
    "from sklearn import linear_model\n",
    "from sklearn import neural_network\n",
    "from sklearn import svm\n",
    "from util import generate_polynomial_data\n",
    "import matplotlib.pyplot as plt\n",
    "import plot_helpers\n",
    "from sklearn import preprocessing\n",
    "import random\n",
    "import math\n",
    "from sklearn import datasets\n",
    "\n",
    "\n",
    "\n",
    "def sigmoid(x):\n",
    "    return 1/(1+ np.exp(-x))\n",
    "\n",
    "def sigmoid_derivative(x):\n",
    "    return x * (1.0 - x)\n",
    "\n",
    "def squared_loss(y, y_pred):\n",
    "    x = mean_squared_error(y, y_pred)**0.5\n",
    "    return x\n",
    "\n",
    "def abs_loss(y, y_pred):\n",
    "    x = np.absolute(y-y_pred)\n",
    "    return x\n",
    "\n",
    "def generate_function(f, n):\n",
    "    X = np.random.rand(n,1)\n",
    "    X = (X*2)-1\n",
    "    Y = f(X)\n",
    "    Y = [y for [y] in Y]\n",
    "    return (X,Y)\n",
    "\n",
    "def generate_3dfunction(f, n):\n",
    "    X = np.random.rand(n,2)\n",
    "    n = X.shape[0]\n",
    "    Y = []\n",
    "    for i in range(n):\n",
    "        Y.append(f(X[i,0],X[i,1]))\n",
    "    Y = np.asarray(Y)\n",
    "    #Y = [y for [y] in Y]\n",
    "    return (X,Y)\n",
    "\n",
    "def Ackley(x,y):\n",
    "    return (-20*math.exp(-0.2*(0.5*((1/1000*x)**2+(1/1000*y)**2)**0.5)) - math.exp(0.5*(math.cos(2*math.pi*x) + math.cos(2*math.pi*y)))+ math.e + 20)"
   ]
  },
  {
   "cell_type": "code",
   "execution_count": 67,
   "metadata": {
    "scrolled": true
   },
   "outputs": [
    {
     "name": "stdout",
     "output_type": "stream",
     "text": [
      "X:  (2000, 1) <class 'numpy.ndarray'>\n",
      "Y:  (2000,) <class 'numpy.ndarray'>\n"
     ]
    },
    {
     "data": {
      "image/png": "[encoded data removed]",
      "text/plain": [
       "<Figure size 432x288 with 1 Axes>"
      ]
     },
     "metadata": {
      "needs_background": "light"
     },
     "output_type": "display_data"
    }
   ],
   "source": [
    "#Generate Data\n",
    "\n",
    "\n",
    "n = 2000 #number of samples\n",
    "#f = lambda x: 10*(x-0.5)**3 + x**0.5\n",
    "f = lambda x: np.sin(10*x) + np.cos(2*x)\n",
    "\n",
    "#X, Y = generate_3dfunction(Ackley, n)\n",
    "X, Y = generate_function(f, n)\n",
    "Y = Y/(max(abs(max(Y)),abs(min(Y))))\n",
    "Y = (Y - min(Y))/2\n",
    "Y = np.asarray(Y)\n",
    "print('X: ', X.shape, type(X))\n",
    "print('Y: ', Y.shape, type(Y))\n",
    "\n",
    "limit = int(99*n/100)\n",
    "\n",
    "X_test = X[:limit]\n",
    "Y_test = Y[:limit]\n",
    "X_train = X[limit:]\n",
    "Y_train = Y[limit:]\n",
    "Y_train = [[x] for x in Y_train]\n",
    "Y_train = np.asarray(Y_train)\n",
    "# Plot Data\n",
    "fig = plt.subplot(111);\n",
    "plot_opts = {'x_label': '$x$', 'y_label': '$y$', 'title': 'Generated Data', 'y_lim': [np.min(Y)-0.5, np.max(Y)+0.5]}\n",
    "plot_helpers.plot_data(X[:, 0], Y, fig=fig, options=plot_opts)"
   ]
  },
  {
   "cell_type": "markdown",
   "metadata": {},
   "source": [
    "# Normal regressions"
   ]
  },
  {
   "cell_type": "code",
   "execution_count": 68,
   "metadata": {},
   "outputs": [
    {
     "name": "stdout",
     "output_type": "stream",
     "text": [
      "0.17197549170677148\n"
     ]
    },
    {
     "name": "stderr",
     "output_type": "stream",
     "text": [
      "/home/gabriel/anaconda3/lib/python3.7/site-packages/sklearn/neural_network/multilayer_perceptron.py:1316: DataConversionWarning: A column-vector y was passed when a 1d array was expected. Please change the shape of y to (n_samples, ), for example using ravel().\n",
      "  y = column_or_1d(y, warn=True)\n"
     ]
    }
   ],
   "source": [
    "#regress\n",
    "\n",
    "#reg = linear_model.LinearRegression()\n",
    "reg = neural_network.MLPRegressor(hidden_layer_sizes=(100, 100))\n",
    "#reg = svm.SVR(kernel='linear')\n",
    "reg.fit(X_train, Y_train)\n",
    "Y_pred = reg.predict(X_test)\n",
    "acc = squared_loss(Y_test, Y_pred)\n",
    "print(acc)\n",
    "w = reg.coefs_\n",
    "#w = reg.get_params\n",
    "#print(w)"
   ]
  },
  {
   "cell_type": "code",
   "execution_count": 69,
   "metadata": {},
   "outputs": [
    {
     "data": {
      "text/plain": [
       "<matplotlib.collections.PathCollection at 0x7fd483b94240>"
      ]
     },
     "execution_count": 69,
     "metadata": {},
     "output_type": "execute_result"
    },
    {
     "data": {
      "image/png": "[encoded data removed]",
      "text/plain": [
       "<Figure size 432x288 with 1 Axes>"
      ]
     },
     "metadata": {
      "needs_background": "light"
     },
     "output_type": "display_data"
    }
   ],
   "source": [
    "# Plot closed form solution\n",
    "fig = plt.subplot(111)\n",
    "plot_opts = {'x_label': '$x$', 'y_label': '$y$', 'title': 'Closed Form Solution', 'legend': True,\n",
    "             'y_lim': [np.min(Y)-0.5, np.max(Y)+0.5]}\n",
    "\n",
    "plot_helpers.plot_data(X_test[:, 0], Y_test, fig=fig, options=plot_opts)\n",
    "#plot_helpers.plot_data(X_test[:, 0], Y_pred, fig=fig, options=plot_opts)\n",
    "plt.scatter(X_test[:,0], Y_pred, color='red')\n",
    "#plot_helpers.plot_fit(X, w, fig=fig, options=plot_opts)"
   ]
  },
  {
   "cell_type": "markdown",
   "metadata": {},
   "source": [
    "# Own neural net"
   ]
  },
  {
   "cell_type": "code",
   "execution_count": 70,
   "metadata": {},
   "outputs": [],
   "source": [
    "class NeuralNetwork:\n",
    "    def __init__(self, x, y, n2):\n",
    "        self.input      = x\n",
    "        self.weights1   = 2*np.random.rand(self.input.shape[1],n2)-1\n",
    "        self.y          = y\n",
    "        self.weights2   = 2*np.random.rand(n2, 1)-1\n",
    "        self.output     = np.zeros(self.y.shape)\n",
    "\n",
    "    def feedforward(self):\n",
    "        self.layer1 = sigmoid(np.dot(self.input, self.weights1))\n",
    "        self.output = sigmoid(np.dot(self.layer1, self.weights2))\n",
    "\n",
    "    def backprop(self):\n",
    "        # application of the chain rule to find derivative of the loss function with respect to weights2 and weights1\n",
    "        d = (2*(self.y - self.output) * sigmoid_derivative(self.output))\n",
    "        d_weights2 = np.dot(self.layer1.T, d)\n",
    "        d_weights1 = np.dot(self.input.T,  (np.dot(d, self.weights2.T) * sigmoid_derivative(self.layer1)))\n",
    "        # update the weights with the derivative (slope) of the loss function\n",
    "        self.weights1 += preprocessing.normalize(d_weights1)\n",
    "        self.weights2 += preprocessing.normalize(d_weights2)"
   ]
  },
  {
   "cell_type": "code",
   "execution_count": 74,
   "metadata": {
    "scrolled": true
   },
   "outputs": [
    {
     "name": "stdout",
     "output_type": "stream",
     "text": [
      "error:\n",
      "0.5428120727069823\n",
      "0.34955746586796\n",
      "0.31162112825927896\n",
      "0.30827463676278477\n",
      "0.3080278264553032\n",
      "0.30797969789834184\n",
      "0.3079189678762273\n",
      "0.3078935987941853\n",
      "0.3078549936229453\n",
      "0.30783875241849973\n",
      "final error: \n",
      " 0.4702747312119371\n"
     ]
    }
   ],
   "source": [
    "nn = NeuralNetwork(X_train,Y_train, 100)\n",
    "\n",
    "print(\"error:\")\n",
    "for i in range(10000):\n",
    "    nn.feedforward()\n",
    "    nn.backprop()\n",
    "    if i % 1000 == 0:\n",
    "        print(squared_loss(Y_train, nn.output))\n",
    "    \n",
    "    \n",
    "\n",
    "print(\"final error: \\n\", squared_loss(Y_train, nn.output))\n",
    "#for item_a, item_b, item_z in zip(y, nn.output, y-nn.output):\n",
    "#    print(item_a, item_b, item_z)"
   ]
  },
  {
   "cell_type": "code",
   "execution_count": 75,
   "metadata": {},
   "outputs": [
    {
     "data": {
      "text/plain": [
       "<matplotlib.collections.PathCollection at 0x7fd483a46a20>"
      ]
     },
     "execution_count": 75,
     "metadata": {},
     "output_type": "execute_result"
    },
    {
     "data": {
      "image/png": "[encoded data removed]",
      "text/plain": [
       "<Figure size 432x288 with 1 Axes>"
      ]
     },
     "metadata": {
      "needs_background": "light"
     },
     "output_type": "display_data"
    }
   ],
   "source": [
    "# Plot closed form solution\n",
    "nn.input = X_test\n",
    "nn.feedforward()\n",
    "Y_pred = nn.output\n",
    "\n",
    "fig = plt.subplot(111)\n",
    "plot_opts = {'x_label': '$x$', 'y_label': '$y$', 'title': 'Closed Form Solution', 'legend': True,\n",
    "             'y_lim': [-0.3, 1.3]}\n",
    "\n",
    "plot_helpers.plot_data(X_test[:, 0], Y_test, fig=fig, options=plot_opts)\n",
    "#plot_helpers.plot_data(X_test[:, 0], Y_pred, fig=fig, options=plot_opts)\n",
    "plt.scatter(X_test[:,0], Y_pred, color='red')\n",
    "#plot_helpers.plot_fit(X, w, fig=fig, options=plot_opts)"
   ]
  },
  {
   "cell_type": "markdown",
   "metadata": {},
   "source": [
    "# Simulated Annealing"
   ]
  },
  {
   "cell_type": "code",
   "execution_count": 76,
   "metadata": {},
   "outputs": [],
   "source": [
    "class NeuralNetwork2:\n",
    "    def __init__(self, x, y, n2):\n",
    "        self.input      = x\n",
    "        self.weights1   = 2*np.random.rand(self.input.shape[1],n2)-1\n",
    "        self.y          = y\n",
    "        self.weights2   = 2*np.random.rand(n2, 1)-1\n",
    "        self.output     = np.zeros(self.y.shape)\n",
    "\n",
    "    def feedforward(self):\n",
    "        self.layer1 = sigmoid(np.dot(self.input, self.weights1))\n",
    "        self.output = sigmoid(np.dot(self.layer1, self.weights2))"
   ]
  },
  {
   "cell_type": "code",
   "execution_count": 77,
   "metadata": {},
   "outputs": [
    {
     "name": "stdout",
     "output_type": "stream",
     "text": [
      "0.0  :  1 0.4284994253539952\n",
      "1.0  :  0.3676954247709635 0.42892443652053247\n",
      "2.0  :  0.1351999253974994 0.35721140130019613\n",
      "3.0  :  0.04971239399803625 0.24847243530851157\n",
      "4.0  :  0.018279019827489446 0.24958161741666826\n",
      "5.0  :  0.006721111959865607 0.22390162202319008\n",
      "6.0  :  0.00247132211701599 0.22013632637474137\n",
      "7.0  :  0.0009086938355620674 0.2202750866443554\n",
      "8.0  :  0.00033412256585375113 0.22027024274848656\n",
      "9.0  :  0.0001228553387771593 0.21860334886383626\n",
      "final error: \n",
      " 0.21855520732787317\n"
     ]
    }
   ],
   "source": [
    "nn = NeuralNetwork2(X_train,Y_train, 1000)\n",
    "\n",
    "\n",
    "nn.feedforward()\n",
    "temp = 1\n",
    "energy = squared_loss(Y_train, nn.output)\n",
    "\n",
    "old_energy = 1000\n",
    "old_weights1 = None\n",
    "old_weights2 = None\n",
    "\n",
    "run_length = 10**4\n",
    "\n",
    "for i in range(run_length):\n",
    "    if i % (run_length/10) == 0:\n",
    "        print(i/(run_length/10), ' : ', temp, energy)\n",
    "    temp *= ((run_length/10)-1)/(run_length/10)\n",
    "    old_energy = energy\n",
    "    old_weights1 = nn.weights1[:]\n",
    "    old_weights2 = nn.weights2[:]\n",
    "    vec1 = 2*np.random.rand(nn.weights1.shape[0], nn.weights1.shape[1])-1\n",
    "    vec2 = 2*np.random.rand(nn.weights2.shape[0], nn.weights2.shape[1])-1\n",
    "    scale_factor = 1/(10-temp)\n",
    "    nn.weights1 = nn.weights1 + vec1*scale_factor\n",
    "    nn.weights2 = nn.weights2 + vec2*scale_factor\n",
    "    nn.feedforward()\n",
    "    energy = mean_squared_error(Y_train, nn.output)**0.5\n",
    "    energy = energy + abs(np.linalg.norm(nn.weights1) + np.linalg.norm(nn.weights2))/50000\n",
    "    if energy < old_energy:\n",
    "        #print(temp, energy)\n",
    "        continue\n",
    "    if energy >= old_energy :\n",
    "        if random.random() >= temp:\n",
    "            nn.weights1 = old_weights1[:]\n",
    "            nn.weights2 = old_weights2[:]\n",
    "            energy = old_energy\n",
    "            \n",
    "        #print(energy) \n",
    "    \n",
    "    \n",
    "\n",
    "print(\"final error: \\n\", energy)\n",
    "nn.feedforward()"
   ]
  },
  {
   "cell_type": "code",
   "execution_count": 78,
   "metadata": {
    "scrolled": true
   },
   "outputs": [
    {
     "data": {
      "text/plain": [
       "<matplotlib.collections.PathCollection at 0x7fd483a2dc88>"
      ]
     },
     "execution_count": 78,
     "metadata": {},
     "output_type": "execute_result"
    },
    {
     "data": {
      "image/png": "[encoded data removed]",
      "text/plain": [
       "<Figure size 432x288 with 1 Axes>"
      ]
     },
     "metadata": {
      "needs_background": "light"
     },
     "output_type": "display_data"
    }
   ],
   "source": [
    "# Plot closed form solution\n",
    "nn.input = X_test\n",
    "nn.feedforward()\n",
    "Y_pred = nn.output\n",
    "\n",
    "fig = plt.subplot(111)\n",
    "plot_opts = {'x_label': '$x$', 'y_label': '$y$', 'title': 'Closed Form Solution', 'legend': True,\n",
    "             'y_lim': [-0.3, 1.3]}\n",
    "\n",
    "plot_helpers.plot_data(X_test[:, 0], Y_test, fig=fig, options=plot_opts)\n",
    "#plot_helpers.plot_data(X_test[:, 0], Y_pred, fig=fig, options=plot_opts)\n",
    "plt.scatter(X_test[:,0], Y_pred, color='red')\n",
    "#plot_helpers.plot_fit(X, w, fig=fig, options=plot_opts)"
   ]
  },
  {
   "cell_type": "code",
   "execution_count": 213,
   "metadata": {},
   "outputs": [
    {
     "name": "stdout",
     "output_type": "stream",
     "text": [
      "0.02331352404392561\n"
     ]
    },
    {
     "data": {
      "text/plain": [
       "0.019339058859984885"
      ]
     },
     "execution_count": 213,
     "metadata": {},
     "output_type": "execute_result"
    }
   ],
   "source": [
    "print(energy)\n",
    "mean_squared_error(Y_train, nn.output)**0.5\n"
   ]
  },
  {
   "cell_type": "markdown",
   "metadata": {},
   "source": [
    "# Mulitylayer SA"
   ]
  },
  {
   "cell_type": "code",
   "execution_count": 79,
   "metadata": {},
   "outputs": [],
   "source": [
    "class NeuralNetwork3:\n",
    "    def __init__(self, x, y, n, l):\n",
    "        self.input      = x\n",
    "        self.y          = y\n",
    "        self.width      = n\n",
    "        self.depth      = l\n",
    "        m = self.input.shape[1]\n",
    "        \n",
    "        self.layer      = []\n",
    "        self.layer.append(x)\n",
    "        for i in range(1,l):\n",
    "            self.layer.append(np.zeros((m,n)))\n",
    "        self.layer.append(np.zeros(self.y.shape))\n",
    "        self.output = self.layer[l]\n",
    "        \n",
    "        self.weights    = []\n",
    "        self.weights.append(2*np.random.rand(m, n)-1)\n",
    "        for i in range(1,l-1):\n",
    "            self.weights.append(2*np.random.rand(n,n)-1)\n",
    "        self.weights.append(2*np.random.rand(n,1)-1)\n",
    "\n",
    "    def feedforward(self):\n",
    "        l = self.depth\n",
    "        for i in range(1,l+1):\n",
    "            self.layer[i] = sigmoid(np.dot(self.layer[i-1], self.weights[i-1]))\n",
    "        self.output = self.layer[l]"
   ]
  },
  {
   "cell_type": "code",
   "execution_count": 97,
   "metadata": {
    "scrolled": true
   },
   "outputs": [
    {
     "name": "stdout",
     "output_type": "stream",
     "text": [
      "0.0  :  1 0.6724961697513263\n",
      "1.0  :  0.3678610464329692 0.4313918686200842\n",
      "2.0  :  0.13532174948275888 0.2264050281237507\n",
      "3.0  :  0.0497796003698677 0.16154618876250162\n",
      "4.0  :  0.01831197588307456 0.13123159821278332\n",
      "5.0  :  0.0067362626106031364 0.13002330548504334\n",
      "6.0  :  0.0024780086129837513 0.15631479113425414\n",
      "7.0  :  0.0009115628414421125 0.15239995246874535\n",
      "8.0  :  0.0003353284607423079 0.16108599955330252\n",
      "9.0  :  0.000123354278467422 0.16235414882616392\n",
      "final error: \n",
      " 0.1693086834422062\n"
     ]
    }
   ],
   "source": [
    "#tuning screws\n",
    "\n",
    "temp = 1\n",
    "run_length = 10**5\n",
    "reg_lambda = 10**2\n",
    "num_nodes = 100\n",
    "num_layers = 3\n",
    "\n",
    "\n",
    "#initialization\n",
    "\n",
    "nn = NeuralNetwork3(X_train, Y_train, num_nodes, num_layers)\n",
    "nn.feedforward()\n",
    "energy = squared_loss(Y_train, nn.output)\n",
    "old_energy = 1000\n",
    "old_weights = None\n",
    "old_reg_energy = 1000\n",
    "reg_energy = energy\n",
    "\n",
    "#training\n",
    "\n",
    "for i in range(run_length):\n",
    "    \n",
    "    #print only distance error \n",
    "    if i % (run_length/10) == 0:\n",
    "        print(i/(run_length/10), ' : ', temp, energy)\n",
    "        \n",
    "    #change and store variables\n",
    "    temp *= ((run_length/10)-1)/(run_length/10)\n",
    "    old_energy = energy\n",
    "    old_weights = nn.weights[:]\n",
    "    old_reg_energy = reg_energy\n",
    "    norm = 0\n",
    "    scale_factor = 1/(10-temp)\n",
    "    \n",
    "    for i in range(0, nn.depth):\n",
    "        vec = 2*np.random.rand(nn.weights[i].shape[0], nn.weights[i].shape[1])-1\n",
    "        nn.weights[i] = nn.weights[i] + vec*scale_factor\n",
    "        norm = norm + abs(np.linalg.norm(nn.weights[i]))\n",
    "    nn.feedforward()\n",
    "    energy = mean_squared_error(Y_train, nn.output)**0.5\n",
    "    reg_energy = energy + norm/reg_lambda\n",
    "    if reg_energy < old_reg_energy:\n",
    "        continue\n",
    "    if reg_energy >= old_reg_energy :\n",
    "        if random.random() >= temp:\n",
    "            nn.weights = old_weights[:]\n",
    "            reg_energy = old_reg_energy \n",
    "            energy = old_energy\n",
    "\n",
    "#output    \n",
    "\n",
    "print(\"final error: \\n\", energy)\n",
    "nn.feedforward()"
   ]
  },
  {
   "cell_type": "code",
   "execution_count": 98,
   "metadata": {},
   "outputs": [
    {
     "data": {
      "text/plain": [
       "<matplotlib.collections.PathCollection at 0x7fd483da1240>"
      ]
     },
     "execution_count": 98,
     "metadata": {},
     "output_type": "execute_result"
    },
    {
     "data": {
      "image/png": "[encoded data removed]",
      "text/plain": [
       "<Figure size 432x288 with 1 Axes>"
      ]
     },
     "metadata": {
      "needs_background": "light"
     },
     "output_type": "display_data"
    }
   ],
   "source": [
    "# Plot\n",
    "nn.layer[0] = X_test[:]\n",
    "nn.feedforward()\n",
    "Y_pred = nn.output[:]\n",
    "\n",
    "fig = plt.subplot(111)\n",
    "plot_opts = {'x_label': '$x$', 'y_label': '$y$', 'title': 'Closed Form Solution', 'legend': True,\n",
    "             'y_lim': [-0.3, 1.3]}\n",
    "\n",
    "plot_helpers.plot_data(X_test[:, 0], Y_test, fig=fig, options=plot_opts)\n",
    "plt.scatter(X_test[:,0], Y_pred, color='red')"
   ]
  },
  {
   "cell_type": "code",
   "execution_count": null,
   "metadata": {},
   "outputs": [],
   "source": []
  },
  {
   "cell_type": "code",
   "execution_count": null,
   "metadata": {},
   "outputs": [],
   "source": []
  }
 ],
 "metadata": {
  "kernelspec": {
   "display_name": "Python 3",
   "language": "python",
   "name": "python3"
  },
  "language_info": {
   "codemirror_mode": {
    "name": "ipython",
    "version": 3
   },
   "file_extension": ".py",
   "mimetype": "text/x-python",
   "name": "python",
   "nbconvert_exporter": "python",
   "pygments_lexer": "ipython3",
   "version": "3.7.1"
  }
 },
 "nbformat": 4,
 "nbformat_minor": 2
}
